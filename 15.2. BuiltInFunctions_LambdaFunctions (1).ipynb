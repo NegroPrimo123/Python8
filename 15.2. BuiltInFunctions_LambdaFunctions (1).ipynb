{
 "cells": [
  {
   "cell_type": "markdown",
   "metadata": {
    "id": "moIM-S1g7SKx"
   },
   "source": [
    "#Функции в аргументах других функций и лямбда-функции"
   ]
  },
  {
   "cell_type": "markdown",
   "metadata": {
    "id": "tFBs9vQC6XNK"
   },
   "source": [
    "## Что такое лямбда-функции и зачем они нужны"
   ]
  },
  {
   "cell_type": "markdown",
   "metadata": {
    "id": "vM1tYvax6il8"
   },
   "source": [
    "Лямбда-функция - это функция, которая используется только в одном месте и выполняет одну единственную задачу.\n",
    "\n",
    "Лямбда-функции используются для реализации короткого кода функции без необходимости создания для нее длинного описания и создания переменной, как для обычных функций. Часто используются в виде аргументов других функций.\n",
    "\n",
    "+Плюсы: лаконичность, автоматический возврат значения\n",
    "\n",
    "-Минусы: ухудшение читаемости кода, ограниченная функциональность по сравнению с обычными функциями"
   ]
  },
  {
   "cell_type": "markdown",
   "metadata": {
    "id": "rrE8Wp993_83"
   },
   "source": [
    "### Общий вид лямбда-функций"
   ]
  },
  {
   "cell_type": "markdown",
   "metadata": {
    "id": "BQPz2EqJ4Gkr"
   },
   "source": [
    "Для создания лямбда-функций используется\n",
    "следующий синтаксис:\n",
    "\n",
    "```lambda parameters: expression```\n",
    "\n",
    "\n",
    "*   ```lambda``` - ключевое слово\n",
    "*   ```parameters``` - параметры являются необязательными, но если \n",
    "присутствуют, то обычно представляют собой простой\n",
    "список имен переменных, разделенных запятыми, то\n",
    "есть позиционных аргументов, хотя при необходимости допускается использовать полный синтаксис \n",
    "определения аргументов, используемый в инструкции def для глобальных переменных\n",
    "*   ```expression``` - тело функции (выражение). Лямбда-функция возвращает результат данного выражения\n",
    "\n"
   ]
  },
  {
   "cell_type": "markdown",
   "metadata": {
    "id": "qZdhdKjunmeP"
   },
   "source": [
    "### Использование лямбда-функций"
   ]
  },
  {
   "cell_type": "markdown",
   "metadata": {
    "id": "TIk3i3wfnyts"
   },
   "source": [
    "Простой пример"
   ]
  },
  {
   "cell_type": "code",
   "execution_count": 2,
   "metadata": {
    "colab": {
     "base_uri": "https://localhost:8080/"
    },
    "executionInfo": {
     "elapsed": 765,
     "status": "ok",
     "timestamp": 1668768790948,
     "user": {
      "displayName": "Наталья Пояркова",
      "userId": "05997905871093046879"
     },
     "user_tz": -180
    },
    "id": "IxNbA476XhXl",
    "outputId": "e009f1c4-299c-4ccb-94af-f9a891d58a6f"
   },
   "outputs": [
    {
     "name": "stdout",
     "output_type": "stream",
     "text": [
      "4\n",
      "<class 'function'>\n"
     ]
    }
   ],
   "source": [
    "# Обычная функция\n",
    "def square(a):\n",
    "  return a**2\n",
    "\n",
    "print(square(2))\n",
    "print(type(square))"
   ]
  },
  {
   "cell_type": "code",
   "execution_count": 3,
   "metadata": {
    "colab": {
     "base_uri": "https://localhost:8080/"
    },
    "executionInfo": {
     "elapsed": 289,
     "status": "ok",
     "timestamp": 1668768830811,
     "user": {
      "displayName": "Наталья Пояркова",
      "userId": "05997905871093046879"
     },
     "user_tz": -180
    },
    "id": "u96jhE6syKsJ",
    "outputId": "80ec2dea-862b-4fe3-f8ae-53026c1d0b17"
   },
   "outputs": [
    {
     "name": "stdout",
     "output_type": "stream",
     "text": [
      "4\n",
      "<class 'function'>\n"
     ]
    }
   ],
   "source": [
    "# Лямбда-функция\n",
    "square_lambda = lambda a: a**2\n",
    "\n",
    "print(square_lambda(2))\n",
    "print(type(square_lambda))"
   ]
  },
  {
   "cell_type": "markdown",
   "metadata": {
    "id": "3Kb9_mKZpw3Y"
   },
   "source": [
    "Создание и выполнение лямбда-функций"
   ]
  },
  {
   "cell_type": "code",
   "execution_count": 4,
   "metadata": {
    "colab": {
     "base_uri": "https://localhost:8080/"
    },
    "executionInfo": {
     "elapsed": 5,
     "status": "ok",
     "timestamp": 1668768875798,
     "user": {
      "displayName": "Наталья Пояркова",
      "userId": "05997905871093046879"
     },
     "user_tz": -180
    },
    "id": "WDPKrCsmzb8n",
    "outputId": "f542f567-2e3b-4752-f01b-600894dbef82"
   },
   "outputs": [
    {
     "name": "stdout",
     "output_type": "stream",
     "text": [
      "4\n",
      "4\n"
     ]
    }
   ],
   "source": [
    "# Способ №1, для функции создается имя\n",
    "square_lambda = lambda a: a**2\n",
    "print(square_lambda(2))\n",
    "\n",
    "# Способ №2, функция без имени, анонимная, часто используется на практике\n",
    "print((lambda a: a**2)(2))\n"
   ]
  },
  {
   "cell_type": "markdown",
   "metadata": {
    "id": "-qOUR__crHRD"
   },
   "source": [
    "Аргументы лямбда-функций"
   ]
  },
  {
   "cell_type": "code",
   "execution_count": null,
   "metadata": {
    "colab": {
     "base_uri": "https://localhost:8080/"
    },
    "executionInfo": {
     "elapsed": 365,
     "status": "ok",
     "timestamp": 1666362602273,
     "user": {
      "displayName": "Наталья Пояркова",
      "userId": "05997905871093046879"
     },
     "user_tz": -180
    },
    "id": "dXt95_9J2c3g",
    "outputId": "1e6ef310-61e4-4dce-c4a8-458509e6ed04"
   },
   "outputs": [
    {
     "name": "stdout",
     "output_type": "stream",
     "text": [
      "6\n",
      "6\n",
      "6\n",
      "3\n",
      "dict_values([1, 2])\n"
     ]
    }
   ],
   "source": [
    "print((lambda x,y,z: x + y + z)(1,2,3))\n",
    "print((lambda x,y,z=3: x + y + z)(1,2))\n",
    "print((lambda x,y,z=3: x + y + z)(1, y=2))\n",
    "print((lambda *arg: arg[0] + arg[1])(1,2))\n",
    "print((lambda **kwarg: kwarg.values())(x=1,y=2))"
   ]
  },
  {
   "cell_type": "markdown",
   "metadata": {
    "id": "GCI6Zcid3Qkg"
   },
   "source": [
    "# Функции могут быть переданы в качестве параметров других функций\n"
   ]
  },
  {
   "cell_type": "markdown",
   "metadata": {
    "id": "dIh4whlM23gR"
   },
   "source": [
    "## Настроить функцию сортировки\n",
    "Вы можете настроить функцию, используя аргумент ключевого слова .`key = function`\n"
   ]
  },
  {
   "cell_type": "markdown",
   "metadata": {
    "id": "gDfGbg9kYfPy"
   },
   "source": [
    "У списка есть метод sort, который сортирует список"
   ]
  },
  {
   "cell_type": "code",
   "execution_count": 12,
   "metadata": {
    "colab": {
     "base_uri": "https://localhost:8080/"
    },
    "executionInfo": {
     "elapsed": 291,
     "status": "ok",
     "timestamp": 1668769474241,
     "user": {
      "displayName": "Наталья Пояркова",
      "userId": "05997905871093046879"
     },
     "user_tz": -180
    },
    "id": "k1burDgBXjqP",
    "outputId": "40385594-fbbb-4321-8760-e30136ecd3f6"
   },
   "outputs": [
    {
     "data": {
      "text/plain": [
       "[-33, -4, -2, 7, 11, 55]"
      ]
     },
     "execution_count": 12,
     "metadata": {},
     "output_type": "execute_result"
    }
   ],
   "source": [
    "data = [-33, -2, -4, 11, 55, 7]\n",
    "data.sort()\n",
    "data"
   ]
  },
  {
   "cell_type": "markdown",
   "metadata": {
    "id": "QP3Cv2M6Z4-d"
   },
   "source": [
    "У метода сорт есть два параметра: key и reverse. \n",
    "\n",
    "Для сортировки в обратном порядке необходимо использовать параметр reverse = True"
   ]
  },
  {
   "cell_type": "code",
   "execution_count": 13,
   "metadata": {
    "colab": {
     "base_uri": "https://localhost:8080/"
    },
    "executionInfo": {
     "elapsed": 5,
     "status": "ok",
     "timestamp": 1668769577597,
     "user": {
      "displayName": "Наталья Пояркова",
      "userId": "05997905871093046879"
     },
     "user_tz": -180
    },
    "id": "bfizFzmNarpe",
    "outputId": "1602e509-1ce7-49ba-d217-dbcf186b6cff"
   },
   "outputs": [
    {
     "data": {
      "text/plain": [
       "[55, 11, 7, -2, -4, -33]"
      ]
     },
     "execution_count": 13,
     "metadata": {},
     "output_type": "execute_result"
    }
   ],
   "source": [
    "data = [-33, -2, -4, 11, 55, 7]\n",
    "data.sort(reverse = True)\n",
    "data"
   ]
  },
  {
   "cell_type": "markdown",
   "metadata": {
    "id": "FOuMpcSR3dsa"
   },
   "source": [
    "Рассмотрим пример, который покажет, для чего используется параметр key. По умолчанию метод `sort()` чувствителен к регистру, в результате чего все заглавные буквы сортируются перед строчными. Сортировка с учетом регистра:"
   ]
  },
  {
   "cell_type": "code",
   "execution_count": null,
   "metadata": {
    "colab": {
     "base_uri": "https://localhost:8080/"
    },
    "executionInfo": {
     "elapsed": 467,
     "status": "ok",
     "timestamp": 1666362808402,
     "user": {
      "displayName": "Наталья Пояркова",
      "userId": "05997905871093046879"
     },
     "user_tz": -180
    },
    "id": "o6fiLiAh3fIA",
    "outputId": "2c9da474-5015-46c7-e8ba-e4363320543f"
   },
   "outputs": [
    {
     "name": "stdout",
     "output_type": "stream",
     "text": [
      "['Апельсин', 'Киви', 'апельсин', 'банан', 'вишня']\n"
     ]
    }
   ],
   "source": [
    "fruits = [\"банан\", \"Апельсин\", \"Киви\", \"апельсин\",\"вишня\"]\n",
    "fruits.sort()\n",
    "print(fruits)"
   ]
  },
  {
   "cell_type": "markdown",
   "metadata": {
    "id": "iAtD4c554Ffe"
   },
   "source": [
    "Поэтому, если вам нужна функция сортировки без учета регистра, используйте `str.lower` в качестве ключевой функции:"
   ]
  },
  {
   "cell_type": "code",
   "execution_count": null,
   "metadata": {
    "colab": {
     "base_uri": "https://localhost:8080/"
    },
    "executionInfo": {
     "elapsed": 591,
     "status": "ok",
     "timestamp": 1666362936094,
     "user": {
      "displayName": "Наталья Пояркова",
      "userId": "05997905871093046879"
     },
     "user_tz": -180
    },
    "id": "1a0egAjuXrmz",
    "outputId": "22c0520c-1989-4643-bc3b-06e1b1fd8626"
   },
   "outputs": [
    {
     "name": "stdout",
     "output_type": "stream",
     "text": [
      "['Апельсин', 'апельсин', 'банан', 'вишня', 'Киви']\n"
     ]
    }
   ],
   "source": [
    "#Выполните сортировку списка без учета регистра:\n",
    "fruits = [\"банан\", \"Апельсин\", \"Киви\",\"апельсин\", \"вишня\"]\n",
    "fruits.sort(key = str.lower)\n",
    "print(fruits)\n"
   ]
  },
  {
   "cell_type": "markdown",
   "metadata": {
    "id": "c580CwXe2-u4"
   },
   "source": [
    "В качестве ключевой функции, можно использовать любую, в том числе, пользовательскую функцию. Например, отсортируйте список в зависимости от того, насколько число близко к 100:"
   ]
  },
  {
   "cell_type": "code",
   "execution_count": 8,
   "metadata": {
    "colab": {
     "base_uri": "https://localhost:8080/"
    },
    "executionInfo": {
     "elapsed": 626,
     "status": "ok",
     "timestamp": 1668769294616,
     "user": {
      "displayName": "Наталья Пояркова",
      "userId": "05997905871093046879"
     },
     "user_tz": -180
    },
    "id": "LHSOuKJV2_MK",
    "outputId": "09dd5874-6288-48f0-bbed-96730cd257be"
   },
   "outputs": [
    {
     "name": "stdout",
     "output_type": "stream",
     "text": [
      "[101, 70, 140, 20, 200]\n"
     ]
    }
   ],
   "source": [
    "def myfunc(n):\n",
    "  return abs(n - 100)\n",
    "\n",
    "numbers = [101, 20, 70, 200, 140]\n",
    "numbers.sort(key = myfunc)\n",
    "print(numbers)"
   ]
  },
  {
   "cell_type": "markdown",
   "metadata": {
    "id": "w7oqlQ4zS6BI"
   },
   "source": [
    "##Использование лямбда функции как аргумент функции"
   ]
  },
  {
   "cell_type": "markdown",
   "metadata": {
    "id": "7mw84oJvbytN"
   },
   "source": [
    "Требуется отсортировать список чисел по убыванию их абсолютного значения. Для решения потребуется метод sort(), в который передается функция, определяющая абсолютное значение."
   ]
  },
  {
   "cell_type": "code",
   "execution_count": 15,
   "metadata": {
    "colab": {
     "base_uri": "https://localhost:8080/"
    },
    "executionInfo": {
     "elapsed": 311,
     "status": "ok",
     "timestamp": 1668769940001,
     "user": {
      "displayName": "Наталья Пояркова",
      "userId": "05997905871093046879"
     },
     "user_tz": -180
    },
    "id": "xcW2jSpOb23t",
    "outputId": "5a1e92ef-d102-48c3-81bf-71cee1d74cde"
   },
   "outputs": [
    {
     "name": "stdout",
     "output_type": "stream",
     "text": [
      "[55, -33, -14, 11, 7, -2]\n"
     ]
    }
   ],
   "source": [
    "data = [-33, -2, -14, 11, 55, 7]\n",
    "data.sort(key=lambda x: abs(x), reverse=True)\n",
    "\n",
    "print(data)"
   ]
  },
  {
   "cell_type": "markdown",
   "metadata": {
    "id": "xHd1DGHuG8FU"
   },
   "source": [
    "\"Сила\" лямбда функций лучше проявляется, когда вы используете их как анонимную функцию внутри другой функции. Используйте лямбда-функции, когда анонимная функция требуется на короткий период времени."
   ]
  },
  {
   "cell_type": "markdown",
   "metadata": {
    "id": "vkYXO0HNLH-i"
   },
   "source": [
    "Мы используем лямбда-функцию, когда нам ненадолго требуется безымянная функция.\n",
    "\n",
    "В Python мы часто используем их как аргумент функции высшего порядка (функции, которая принимает другие функции в качестве аргументов).  Лямбда-функции используют вместе с такими встроенными функциями как filter(), map(), reduce() и др.\n",
    "\n",
    "Давайте рассмотрим еще несколько распространенных вариантов использования лямбда-функций.\n",
    "\n"
   ]
  },
  {
   "cell_type": "markdown",
   "metadata": {
    "id": "xEXEw-8MoUa7"
   },
   "source": [
    "**Лямбда-функции и filter()**\n",
    "\n",
    "Функция filter() в Python принимает в качестве аргументов функцию и список .\n",
    "\n",
    "Функция вызывается со всеми элементами в списке, и в результате возвращается новый список, содержащий элементы, для которых функция возвращает значение True.\n",
    "\n",
    "Вот пример использования функции filter() для отбора четных чисел из списка."
   ]
  },
  {
   "cell_type": "code",
   "execution_count": null,
   "metadata": {
    "id": "Mza23hPwLQFq"
   },
   "outputs": [],
   "source": [
    "my_list = [1, 3, 4, 6, 10, 11, 15, 12, 14]\n",
    "new_list = list(filter(lambda x: (x % 2 == 0) , my_list))\n",
    "print(new_list)"
   ]
  },
  {
   "cell_type": "markdown",
   "metadata": {
    "id": "q6jvY2p9F03F"
   },
   "source": [
    "**Лямбда-функция и map()**\n",
    "\n",
    "Функция map() принимает в качестве аргументов функцию и список.\n",
    "\n",
    "Функция вызывается со всеми элементами в списке, и в результате возвращается новый список, содержащий элементы, возвращенные данной функцией для каждого исходного элемента. То есть map выполняет преобразование одного списка в другой.\n",
    "\n",
    "Ниже пример использования функции map() для удвоения всех элементов списка."
   ]
  },
  {
   "cell_type": "code",
   "execution_count": 17,
   "metadata": {
    "colab": {
     "base_uri": "https://localhost:8080/"
    },
    "executionInfo": {
     "elapsed": 273,
     "status": "ok",
     "timestamp": 1668770355683,
     "user": {
      "displayName": "Наталья Пояркова",
      "userId": "05997905871093046879"
     },
     "user_tz": -180
    },
    "id": "sokd8mNtLwm6",
    "outputId": "5bb8bcfd-cde5-4653-dc71-7e151c596f98"
   },
   "outputs": [
    {
     "name": "stdout",
     "output_type": "stream",
     "text": [
      "[2, 6, 8, 20, 24, 28]\n"
     ]
    }
   ],
   "source": [
    "current_list = [1, 3, 4, 10, 12, 14]\n",
    "new_list = list(map(lambda x: x*2 , current_list))\n",
    "print(new_list)"
   ]
  },
  {
   "cell_type": "markdown",
   "metadata": {
    "id": "zdgKzk0Yq3o_"
   },
   "source": [
    "Классические конструкции с лямбда-функциями"
   ]
  },
  {
   "cell_type": "code",
   "execution_count": null,
   "metadata": {
    "colab": {
     "base_uri": "https://localhost:8080/"
    },
    "executionInfo": {
     "elapsed": 391,
     "status": "ok",
     "timestamp": 1666364201506,
     "user": {
      "displayName": "Наталья Пояркова",
      "userId": "05997905871093046879"
     },
     "user_tz": -180
    },
    "id": "rAoqXA-e0EW9",
    "outputId": "11cca448-9ca6-4389-feba-129ebf1cf6fc"
   },
   "outputs": [
    {
     "data": {
      "text/plain": [
       "['CAT', 'DOG', 'COW']"
      ]
     },
     "execution_count": 14,
     "metadata": {},
     "output_type": "execute_result"
    }
   ],
   "source": [
    "# В паре с map\n",
    "list(map(lambda x: x.upper(),['cat','dog', 'cow']))"
   ]
  },
  {
   "cell_type": "code",
   "execution_count": null,
   "metadata": {
    "colab": {
     "base_uri": "https://localhost:8080/"
    },
    "executionInfo": {
     "elapsed": 823,
     "status": "ok",
     "timestamp": 1666364317829,
     "user": {
      "displayName": "Наталья Пояркова",
      "userId": "05997905871093046879"
     },
     "user_tz": -180
    },
    "id": "i_lMG4_E0qe3",
    "outputId": "c51a4514-a593-4e90-fb46-32380029ba31"
   },
   "outputs": [
    {
     "data": {
      "text/plain": [
       "['dog', 'cow']"
      ]
     },
     "execution_count": 15,
     "metadata": {},
     "output_type": "execute_result"
    }
   ],
   "source": [
    "# В паре с filter\n",
    "list(filter(lambda x: 'o' in x, ['cat','dog', 'cow']))"
   ]
  },
  {
   "cell_type": "code",
   "execution_count": null,
   "metadata": {
    "colab": {
     "base_uri": "https://localhost:8080/",
     "height": 53
    },
    "executionInfo": {
     "elapsed": 636,
     "status": "ok",
     "timestamp": 1575042505737,
     "user": {
      "displayName": "Oleg Konorev",
      "photoUrl": "",
      "userId": "00534607066585170740"
     },
     "user_tz": -180
    },
    "id": "MFyK5QrB1Pzf",
    "outputId": "157a8e2e-f061-469c-a28d-05e79b73bc85"
   },
   "outputs": [
    {
     "name": "stdout",
     "output_type": "stream",
     "text": [
      "['id1', 'id100', 'id2', 'id22', 'id3', 'id30']\n",
      "['id1', 'id2', 'id3', 'id22', 'id30', 'id100']\n"
     ]
    }
   ],
   "source": [
    "# В паре с sorted\n",
    "ids = ['id1','id2','id3','id30','id22','id100']\n",
    "# Лексикографическая сортировка\n",
    "print(sorted(ids))\n",
    "# Порядок целочисленных индексов\n",
    "sorted_ids = sorted(ids,key = lambda x: int(x[2:]) )\n",
    "print(sorted_ids)"
   ]
  },
  {
   "cell_type": "markdown",
   "metadata": {
    "id": "kPCAHM1dd5f-"
   },
   "source": [
    "##Задачи"
   ]
  },
  {
   "cell_type": "markdown",
   "metadata": {
    "id": "ARsdJRuWT233"
   },
   "source": [
    "###Задача 1\n",
    "Используя функцию min и лямбда функцию найдите самое короткое слово в заданном списке слов."
   ]
  },
  {
   "cell_type": "code",
   "execution_count": 18,
   "metadata": {
    "colab": {
     "base_uri": "https://localhost:8080/",
     "height": 53
    },
    "executionInfo": {
     "elapsed": 284,
     "status": "ok",
     "timestamp": 1668770494357,
     "user": {
      "displayName": "Наталья Пояркова",
      "userId": "05997905871093046879"
     },
     "user_tz": -180
    },
    "id": "5gpnnr4_UNQw",
    "outputId": "54dd4f25-1dac-4cbf-849f-f7d04264d245"
   },
   "outputs": [
    {
     "name": "stdout",
     "output_type": "stream",
     "text": [
      "анаконда\n"
     ]
    },
    {
     "data": {
      "application/vnd.google.colaboratory.intrinsic+json": {
       "type": "string"
      },
      "text/plain": [
       "'кот'"
      ]
     },
     "execution_count": 18,
     "metadata": {},
     "output_type": "execute_result"
    }
   ],
   "source": [
    "strings = ['крот', 'белка', 'кот', 'анаконда', 'выхухоль']\n",
    "short_word = min(strings, key=lambda x: len(x))\n",
    "print(short_word)"
   ]
  },
  {
   "cell_type": "markdown",
   "metadata": {
    "id": "6FByN84cbgbO"
   },
   "source": [
    "###Задача 2\n",
    "Имеем список строк разной длины. Необходимо получить новый список из строк одинаковой длины. Длину итоговой строки определяем исходя из самой большой из них. Если конкретная строка короче самой длинной, дополнить ее нижними подчеркиваниями с правого края до требуемого количества символов.\n",
    "Расположение элементов начального списка не менять."
   ]
  },
  {
   "cell_type": "markdown",
   "metadata": {
    "id": "E_UM6IfSblNF"
   },
   "source": [
    "Сначала необходимо определить длину каждой строки в списке и найти максимальную. Выполните это с помощью лямда функции и функции max. Далее дополняем символы «_» к строкам, чья длина меньше (примените метод ljust https://www.w3schools.com/python/python_ref_string.asp).\n"
   ]
  },
  {
   "cell_type": "code",
   "execution_count": null,
   "metadata": {
    "colab": {
     "base_uri": "https://localhost:8080/"
    },
    "executionInfo": {
     "elapsed": 892,
     "status": "ok",
     "timestamp": 1666365540197,
     "user": {
      "displayName": "Наталья Пояркова",
      "userId": "05997905871093046879"
     },
     "user_tz": -180
    },
    "id": "Ww-1OlAwbqGk",
    "outputId": "cdeddbed-ec02-462d-ba03-d28d3df9b2b6"
   },
   "outputs": [
    {
     "name": "stdout",
     "output_type": "stream",
     "text": [
      "['крот____', 'белка___', 'кот_____', 'выхухоль']\n"
     ]
    }
   ],
   "source": [
    "lst = ['крот', 'белка', 'кот', 'выхухоль']\n",
    "max_len = len(max(lst, key=len))\n",
    "new_lst = [item.ljust(max_len, '_') for item in lst]\n",
    "print(new_lst)\n"
   ]
  },
  {
   "cell_type": "markdown",
   "metadata": {
    "id": "V_pp6wOi4iKc"
   },
   "source": [
    "###Задача 3\n",
    "Создайте лямбда-функцию, которая находит обратное к числу значение (например, для числа `2` обратным является `1/2`). Примените ее ко всем элементам заданного списка. Найдите сумму полученных обратных значений."
   ]
  },
  {
   "cell_type": "code",
   "execution_count": null,
   "metadata": {
    "colab": {
     "base_uri": "https://localhost:8080/"
    },
    "executionInfo": {
     "elapsed": 714,
     "status": "ok",
     "timestamp": 1666366154944,
     "user": {
      "displayName": "Наталья Пояркова",
      "userId": "05997905871093046879"
     },
     "user_tz": -180
    },
    "id": "vmNruymcPFbh",
    "outputId": "76a21bdd-3e17-462d-e6df-4a50479b4600"
   },
   "outputs": [
    {
     "data": {
      "text/plain": [
       "1.35"
      ]
     },
     "execution_count": 32,
     "metadata": {},
     "output_type": "execute_result"
    }
   ],
   "source": [
    "numbers = [2, 2, 4, 10]\n",
    "s = sum(map(lambda x: 1/x, numbers))\n",
    "print(s)\n"
   ]
  }
 ],
 "metadata": {
  "colab": {
   "provenance": [
    {
     "file_id": "1NNSRpJsRBj35FWtkyg22JTquiGew0UoA",
     "timestamp": 1666343936464
    }
   ]
  },
  "kernelspec": {
   "display_name": "Python 3",
   "name": "python3"
  }
 },
 "nbformat": 4,
 "nbformat_minor": 0
}
